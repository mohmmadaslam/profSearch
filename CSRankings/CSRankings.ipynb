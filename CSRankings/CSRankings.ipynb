{
 "metadata": {
  "language_info": {
   "codemirror_mode": {
    "name": "ipython",
    "version": 3
   },
   "file_extension": ".py",
   "mimetype": "text/x-python",
   "name": "python",
   "nbconvert_exporter": "python",
   "pygments_lexer": "ipython3",
   "version": "3.6.9-final"
  },
  "orig_nbformat": 2,
  "kernelspec": {
   "name": "python369jvsc74a57bd031f2aee4e71d21fbe5cf8b01ff0e069b9275f58929596ceb00d14d90e3e16cd6",
   "display_name": "Python 3.6.9 64-bit"
  },
  "metadata": {
   "interpreter": {
    "hash": "31f2aee4e71d21fbe5cf8b01ff0e069b9275f58929596ceb00d14d90e3e16cd6"
   }
  }
 },
 "nbformat": 4,
 "nbformat_minor": 2,
 "cells": [
  {
   "cell_type": "code",
   "execution_count": 1,
   "metadata": {},
   "outputs": [],
   "source": [
    "import pandas as pd"
   ]
  },
  {
   "cell_type": "code",
   "execution_count": 2,
   "metadata": {},
   "outputs": [],
   "source": [
    "cs = pd.read_csv(\"csrankings.csv\")"
   ]
  },
  {
   "cell_type": "code",
   "execution_count": 3,
   "metadata": {},
   "outputs": [],
   "source": [
    "from scholarly import scholarly\n",
    "cs['citedby'] = None\n",
    "cs['Research Interests'] = None\n",
    "cs['Google Scholar Link'] = None\n",
    "\n",
    "for i in range(100):\n",
    "    if cs['scholarid'][i] == 'NOSCHOLARPAGE':\n",
    "        continue\n",
    "    else:\n",
    "        try:\n",
    "            author = scholarly.search_author_id(cs['scholarid'][i])\n",
    "            cs['Google Scholar Link'][i] = 'https://scholar.google.com/citations?user=' + cs['scholarid'][i] + '&hl=en'\n",
    "            if 'citedby' in author:\n",
    "                cs['citedby'][i] = author['citedby']\n",
    "            cs['Research Interests'][i] = author['interests']\n",
    "        except:\n",
    "            continue"
   ]
  },
  {
   "cell_type": "code",
   "execution_count": null,
   "metadata": {},
   "outputs": [],
   "source": [
    "cs[:100]"
   ]
  },
  {
   "cell_type": "code",
   "execution_count": null,
   "metadata": {},
   "outputs": [],
   "source": []
  }
 ]
}
{
 "metadata": {
  "language_info": {
   "codemirror_mode": {
    "name": "ipython",
    "version": 3
   },
   "file_extension": ".py",
   "mimetype": "text/x-python",
   "name": "python",
   "nbconvert_exporter": "python",
   "pygments_lexer": "ipython3",
   "version": "3.6.9"
  },
  "orig_nbformat": 2,
  "kernelspec": {
   "name": "python3",
   "display_name": "Python 3.6.9 64-bit",
   "metadata": {
    "interpreter": {
     "hash": "31f2aee4e71d21fbe5cf8b01ff0e069b9275f58929596ceb00d14d90e3e16cd6"
    }
   }
  }
 },
 "nbformat": 4,
 "nbformat_minor": 2,
 "cells": [
  {
   "cell_type": "code",
   "execution_count": 68,
   "metadata": {},
   "outputs": [],
   "source": [
    "import pandas as pd"
   ]
  },
  {
   "cell_type": "code",
   "execution_count": 69,
   "metadata": {},
   "outputs": [
    {
     "output_type": "error",
     "ename": "NameError",
     "evalue": "name 's' is not defined",
     "traceback": [
      "\u001b[0;31m---------------------------------------------------------------------------\u001b[0m",
      "\u001b[0;31mNameError\u001b[0m                                 Traceback (most recent call last)",
      "\u001b[0;32m<ipython-input-69-ded5ba42480f>\u001b[0m in \u001b[0;36m<module>\u001b[0;34m\u001b[0m\n\u001b[0;32m----> 1\u001b[0;31m \u001b[0ms\u001b[0m\u001b[0;34m\u001b[0m\u001b[0;34m\u001b[0m\u001b[0m\n\u001b[0m",
      "\u001b[0;31mNameError\u001b[0m: name 's' is not defined"
     ]
    }
   ],
   "source": [
    "s"
   ]
  },
  {
   "cell_type": "code",
   "execution_count": 7,
   "metadata": {},
   "outputs": [
    {
     "output_type": "execute_result",
     "data": {
      "text/plain": [
       "                     name                         affiliation  \\\n",
       "0           Benoît Libert    Ecole Normale Superieure de Lyon   \n",
       "1            Bent Thomsen                  Aalborg University   \n",
       "2             Benyuan Liu  University of Massachusetts Lowell   \n",
       "3     Berk Burak Ustundag       Istanbul Technical University   \n",
       "4            Berk Canberk       Istanbul Technical University   \n",
       "...                   ...                                 ...   \n",
       "2202            David Jao              University of Waterloo   \n",
       "2203    David John Hawkes           University College London   \n",
       "2204          David Jones           University College London   \n",
       "2205         David Juedes                     Ohio University   \n",
       "2206        David Jurgens              University of Michigan   \n",
       "\n",
       "                                        homepage     scholarid  \n",
       "0         http://perso.ens-lyon.fr/benoit.libert  kRpKU4IAAAAJ  \n",
       "1                    http://people.cs.aau.dk/~bt  mhyMmZoAAAAJ  \n",
       "2                    http://www.cs.uml.edu/~bliu  s2n1-HMAAAAJ  \n",
       "3            http://akademi.itu.edu.tr/bustundag  JJY3eIEAAAAJ  \n",
       "4                         http://bcrg.itu.edu.tr  q3ueClIAAAAJ  \n",
       "...                                          ...           ...  \n",
       "2202              https://djao.math.uwaterloo.ca  uj3Xx8IAAAAJ  \n",
       "2203  http://cmic.cs.ucl.ac.uk/staff/dave_hawkes  O42T24CT_GwC  \n",
       "2204       http://www.cs.ucl.ac.uk/staff/D.Jones  yRb0DnQAAAAJ  \n",
       "2205         http://oucsace.cs.ohiou.edu/~juedes  eTFiw7wAAAAJ  \n",
       "2206         https://www.si.umich.edu/node/15080  sGFFr5kAAAAJ  \n",
       "\n",
       "[2207 rows x 4 columns]"
      ],
      "text/html": "<div>\n<style scoped>\n    .dataframe tbody tr th:only-of-type {\n        vertical-align: middle;\n    }\n\n    .dataframe tbody tr th {\n        vertical-align: top;\n    }\n\n    .dataframe thead th {\n        text-align: right;\n    }\n</style>\n<table border=\"1\" class=\"dataframe\">\n  <thead>\n    <tr style=\"text-align: right;\">\n      <th></th>\n      <th>name</th>\n      <th>affiliation</th>\n      <th>homepage</th>\n      <th>scholarid</th>\n    </tr>\n  </thead>\n  <tbody>\n    <tr>\n      <th>0</th>\n      <td>Benoît Libert</td>\n      <td>Ecole Normale Superieure de Lyon</td>\n      <td>http://perso.ens-lyon.fr/benoit.libert</td>\n      <td>kRpKU4IAAAAJ</td>\n    </tr>\n    <tr>\n      <th>1</th>\n      <td>Bent Thomsen</td>\n      <td>Aalborg University</td>\n      <td>http://people.cs.aau.dk/~bt</td>\n      <td>mhyMmZoAAAAJ</td>\n    </tr>\n    <tr>\n      <th>2</th>\n      <td>Benyuan Liu</td>\n      <td>University of Massachusetts Lowell</td>\n      <td>http://www.cs.uml.edu/~bliu</td>\n      <td>s2n1-HMAAAAJ</td>\n    </tr>\n    <tr>\n      <th>3</th>\n      <td>Berk Burak Ustundag</td>\n      <td>Istanbul Technical University</td>\n      <td>http://akademi.itu.edu.tr/bustundag</td>\n      <td>JJY3eIEAAAAJ</td>\n    </tr>\n    <tr>\n      <th>4</th>\n      <td>Berk Canberk</td>\n      <td>Istanbul Technical University</td>\n      <td>http://bcrg.itu.edu.tr</td>\n      <td>q3ueClIAAAAJ</td>\n    </tr>\n    <tr>\n      <th>...</th>\n      <td>...</td>\n      <td>...</td>\n      <td>...</td>\n      <td>...</td>\n    </tr>\n    <tr>\n      <th>2202</th>\n      <td>David Jao</td>\n      <td>University of Waterloo</td>\n      <td>https://djao.math.uwaterloo.ca</td>\n      <td>uj3Xx8IAAAAJ</td>\n    </tr>\n    <tr>\n      <th>2203</th>\n      <td>David John Hawkes</td>\n      <td>University College London</td>\n      <td>http://cmic.cs.ucl.ac.uk/staff/dave_hawkes</td>\n      <td>O42T24CT_GwC</td>\n    </tr>\n    <tr>\n      <th>2204</th>\n      <td>David Jones</td>\n      <td>University College London</td>\n      <td>http://www.cs.ucl.ac.uk/staff/D.Jones</td>\n      <td>yRb0DnQAAAAJ</td>\n    </tr>\n    <tr>\n      <th>2205</th>\n      <td>David Juedes</td>\n      <td>Ohio University</td>\n      <td>http://oucsace.cs.ohiou.edu/~juedes</td>\n      <td>eTFiw7wAAAAJ</td>\n    </tr>\n    <tr>\n      <th>2206</th>\n      <td>David Jurgens</td>\n      <td>University of Michigan</td>\n      <td>https://www.si.umich.edu/node/15080</td>\n      <td>sGFFr5kAAAAJ</td>\n    </tr>\n  </tbody>\n</table>\n<p>2207 rows × 4 columns</p>\n</div>"
     },
     "metadata": {},
     "execution_count": 7
    }
   ],
   "source": [
    "cs1 = pd.read_csv(\"csrankings-1.csv\")\n",
    "cs1"
   ]
  },
  {
   "cell_type": "code",
   "execution_count": 8,
   "metadata": {},
   "outputs": [
    {
     "output_type": "execute_result",
     "data": {
      "text/plain": [
       "                       name                            affiliation  \\\n",
       "0         David K. Duvenaud                  University of Toronto   \n",
       "1          David K. Gifford  Massachusetts Institute of Technology   \n",
       "2        David K. Lowenthal                  University of Arizona   \n",
       "3         David K. McGookin                       Aalto University   \n",
       "4           David K. Probst                   Concordia University   \n",
       "...                     ...                                    ...   \n",
       "4419            Gert Smolka                    Saarland University   \n",
       "4420  Gerth Stølting Brodal                      Aarhus University   \n",
       "4421           Gerti Kappel                                TU Wien   \n",
       "4422      Gertjan van Noord                University of Groningen   \n",
       "4423          Gethin Norman                  University of Glasgow   \n",
       "\n",
       "                                               homepage      scholarid  \n",
       "0                   http://www.cs.toronto.edu/~duvenaud   ZLpO3XQAAAAJ  \n",
       "1                              http://cgs.csail.mit.edu  NOSCHOLARPAGE  \n",
       "2                       https://www.cs.arizona.edu/~dkl   mhKUSRMAAAAJ  \n",
       "3            https://people.aalto.fi/new/david.mcgookin   g77JWrQAAAAJ  \n",
       "4     http://www.concordia.ca/faculty/david-probst.html   LDX2HjEAAAAJ  \n",
       "...                                                 ...            ...  \n",
       "4419              http://www.ps.uni-saarland.de/~smolka   cePtsyAAAAAJ  \n",
       "4420                             http://cs.au.dk/~gerth  NOSCHOLARPAGE  \n",
       "4421        https://www.big.tuwien.ac.at/people/gkappel   Rdz0vc8AAAAJ  \n",
       "4422                     http://www.let.rug.nl/vannoord   dgU9Yq0AAAAJ  \n",
       "4423    http://www.dcs.gla.ac.uk/people/personal/gethin   H3nOlXsAAAAJ  \n",
       "\n",
       "[4424 rows x 4 columns]"
      ],
      "text/html": "<div>\n<style scoped>\n    .dataframe tbody tr th:only-of-type {\n        vertical-align: middle;\n    }\n\n    .dataframe tbody tr th {\n        vertical-align: top;\n    }\n\n    .dataframe thead th {\n        text-align: right;\n    }\n</style>\n<table border=\"1\" class=\"dataframe\">\n  <thead>\n    <tr style=\"text-align: right;\">\n      <th></th>\n      <th>name</th>\n      <th>affiliation</th>\n      <th>homepage</th>\n      <th>scholarid</th>\n    </tr>\n  </thead>\n  <tbody>\n    <tr>\n      <th>0</th>\n      <td>David K. Duvenaud</td>\n      <td>University of Toronto</td>\n      <td>http://www.cs.toronto.edu/~duvenaud</td>\n      <td>ZLpO3XQAAAAJ</td>\n    </tr>\n    <tr>\n      <th>1</th>\n      <td>David K. Gifford</td>\n      <td>Massachusetts Institute of Technology</td>\n      <td>http://cgs.csail.mit.edu</td>\n      <td>NOSCHOLARPAGE</td>\n    </tr>\n    <tr>\n      <th>2</th>\n      <td>David K. Lowenthal</td>\n      <td>University of Arizona</td>\n      <td>https://www.cs.arizona.edu/~dkl</td>\n      <td>mhKUSRMAAAAJ</td>\n    </tr>\n    <tr>\n      <th>3</th>\n      <td>David K. McGookin</td>\n      <td>Aalto University</td>\n      <td>https://people.aalto.fi/new/david.mcgookin</td>\n      <td>g77JWrQAAAAJ</td>\n    </tr>\n    <tr>\n      <th>4</th>\n      <td>David K. Probst</td>\n      <td>Concordia University</td>\n      <td>http://www.concordia.ca/faculty/david-probst.html</td>\n      <td>LDX2HjEAAAAJ</td>\n    </tr>\n    <tr>\n      <th>...</th>\n      <td>...</td>\n      <td>...</td>\n      <td>...</td>\n      <td>...</td>\n    </tr>\n    <tr>\n      <th>4419</th>\n      <td>Gert Smolka</td>\n      <td>Saarland University</td>\n      <td>http://www.ps.uni-saarland.de/~smolka</td>\n      <td>cePtsyAAAAAJ</td>\n    </tr>\n    <tr>\n      <th>4420</th>\n      <td>Gerth Stølting Brodal</td>\n      <td>Aarhus University</td>\n      <td>http://cs.au.dk/~gerth</td>\n      <td>NOSCHOLARPAGE</td>\n    </tr>\n    <tr>\n      <th>4421</th>\n      <td>Gerti Kappel</td>\n      <td>TU Wien</td>\n      <td>https://www.big.tuwien.ac.at/people/gkappel</td>\n      <td>Rdz0vc8AAAAJ</td>\n    </tr>\n    <tr>\n      <th>4422</th>\n      <td>Gertjan van Noord</td>\n      <td>University of Groningen</td>\n      <td>http://www.let.rug.nl/vannoord</td>\n      <td>dgU9Yq0AAAAJ</td>\n    </tr>\n    <tr>\n      <th>4423</th>\n      <td>Gethin Norman</td>\n      <td>University of Glasgow</td>\n      <td>http://www.dcs.gla.ac.uk/people/personal/gethin</td>\n      <td>H3nOlXsAAAAJ</td>\n    </tr>\n  </tbody>\n</table>\n<p>4424 rows × 4 columns</p>\n</div>"
     },
     "metadata": {},
     "execution_count": 8
    }
   ],
   "source": [
    "cs2 = pd.read_csv(\"csrankings-2.csv\")\n",
    "cs2"
   ]
  },
  {
   "cell_type": "code",
   "execution_count": 9,
   "metadata": {},
   "outputs": [
    {
     "output_type": "execute_result",
     "data": {
      "text/plain": [
       "                    name                affiliation  \\\n",
       "0            Geunbae Lee                    POSTECH   \n",
       "1       Gevorg Grigoryan          Dartmouth College   \n",
       "2             Geyong Min       University of Exeter   \n",
       "3       Ghadah Aldabbagh  King Abdulaziz University   \n",
       "4       Ghassan Hamarneh    Simon Fraser University   \n",
       "...                  ...                        ...   \n",
       "2204     Jeffrey C. Dill            Ohio University   \n",
       "2205  Jeffrey C. Trinkle          Lehigh University   \n",
       "2206        Jeff Trinkle          Lehigh University   \n",
       "2207      Jeffrey Carver  The University of Alabama   \n",
       "2208        Jeffrey Chan            RMIT University   \n",
       "\n",
       "                                               homepage      scholarid  \n",
       "0                       http://nlp.postech.ac.kr/~gblee   t30saScAAAAJ  \n",
       "1     http://dartmouth.edu/faculty-directory/gevorg-...   hJuusUEAAAAJ  \n",
       "2     http://emps.exeter.ac.uk/computer-science/staf...   OKpejRIAAAAJ  \n",
       "3     http://www.kau.edu.sa/CVEn.aspx?Site_ID=000314...   mZkyspYAAAAJ  \n",
       "4                        http://www.cs.sfu.ca/~hamarneh   61DdlkAAAAAJ  \n",
       "...                                                 ...            ...  \n",
       "2204  https://www.ohio.edu/engineering/about/people/...  NOSCHOLARPAGE  \n",
       "2205                  http://www.cse.lehigh.edu/~trink/   Dl0vAp8AAAAJ  \n",
       "2206                  http://www.cse.lehigh.edu/~trink/   Dl0vAp8AAAAJ  \n",
       "2207                            http://carver.cs.ua.edu   qGe7nJ0AAAAJ  \n",
       "2208  https://www.rmit.edu.au/contact/staff-contacts...   I9mDeiYAAAAJ  \n",
       "\n",
       "[2209 rows x 4 columns]"
      ],
      "text/html": "<div>\n<style scoped>\n    .dataframe tbody tr th:only-of-type {\n        vertical-align: middle;\n    }\n\n    .dataframe tbody tr th {\n        vertical-align: top;\n    }\n\n    .dataframe thead th {\n        text-align: right;\n    }\n</style>\n<table border=\"1\" class=\"dataframe\">\n  <thead>\n    <tr style=\"text-align: right;\">\n      <th></th>\n      <th>name</th>\n      <th>affiliation</th>\n      <th>homepage</th>\n      <th>scholarid</th>\n    </tr>\n  </thead>\n  <tbody>\n    <tr>\n      <th>0</th>\n      <td>Geunbae Lee</td>\n      <td>POSTECH</td>\n      <td>http://nlp.postech.ac.kr/~gblee</td>\n      <td>t30saScAAAAJ</td>\n    </tr>\n    <tr>\n      <th>1</th>\n      <td>Gevorg Grigoryan</td>\n      <td>Dartmouth College</td>\n      <td>http://dartmouth.edu/faculty-directory/gevorg-...</td>\n      <td>hJuusUEAAAAJ</td>\n    </tr>\n    <tr>\n      <th>2</th>\n      <td>Geyong Min</td>\n      <td>University of Exeter</td>\n      <td>http://emps.exeter.ac.uk/computer-science/staf...</td>\n      <td>OKpejRIAAAAJ</td>\n    </tr>\n    <tr>\n      <th>3</th>\n      <td>Ghadah Aldabbagh</td>\n      <td>King Abdulaziz University</td>\n      <td>http://www.kau.edu.sa/CVEn.aspx?Site_ID=000314...</td>\n      <td>mZkyspYAAAAJ</td>\n    </tr>\n    <tr>\n      <th>4</th>\n      <td>Ghassan Hamarneh</td>\n      <td>Simon Fraser University</td>\n      <td>http://www.cs.sfu.ca/~hamarneh</td>\n      <td>61DdlkAAAAAJ</td>\n    </tr>\n    <tr>\n      <th>...</th>\n      <td>...</td>\n      <td>...</td>\n      <td>...</td>\n      <td>...</td>\n    </tr>\n    <tr>\n      <th>2204</th>\n      <td>Jeffrey C. Dill</td>\n      <td>Ohio University</td>\n      <td>https://www.ohio.edu/engineering/about/people/...</td>\n      <td>NOSCHOLARPAGE</td>\n    </tr>\n    <tr>\n      <th>2205</th>\n      <td>Jeffrey C. Trinkle</td>\n      <td>Lehigh University</td>\n      <td>http://www.cse.lehigh.edu/~trink/</td>\n      <td>Dl0vAp8AAAAJ</td>\n    </tr>\n    <tr>\n      <th>2206</th>\n      <td>Jeff Trinkle</td>\n      <td>Lehigh University</td>\n      <td>http://www.cse.lehigh.edu/~trink/</td>\n      <td>Dl0vAp8AAAAJ</td>\n    </tr>\n    <tr>\n      <th>2207</th>\n      <td>Jeffrey Carver</td>\n      <td>The University of Alabama</td>\n      <td>http://carver.cs.ua.edu</td>\n      <td>qGe7nJ0AAAAJ</td>\n    </tr>\n    <tr>\n      <th>2208</th>\n      <td>Jeffrey Chan</td>\n      <td>RMIT University</td>\n      <td>https://www.rmit.edu.au/contact/staff-contacts...</td>\n      <td>I9mDeiYAAAAJ</td>\n    </tr>\n  </tbody>\n</table>\n<p>2209 rows × 4 columns</p>\n</div>"
     },
     "metadata": {},
     "execution_count": 9
    }
   ],
   "source": [
    "cs3 = pd.read_csv(\"csrankings-3.csv\")\n",
    "cs3"
   ]
  },
  {
   "cell_type": "code",
   "execution_count": 10,
   "metadata": {},
   "outputs": [
    {
     "output_type": "execute_result",
     "data": {
      "text/plain": [
       "                      name                       affiliation  \\\n",
       "0      Jeffrey Dalton 0001             University of Glasgow   \n",
       "1          Jeffrey E. Boyd             University of Calgary   \n",
       "2         Jeffrey Flanigan  Univ. of California - Santa Cruz   \n",
       "3          Jeffrey G. Gray         The University of Alabama   \n",
       "4        Jeffrey H. Dinitz             University of Vermont   \n",
       "...                    ...                               ...   \n",
       "2206       Kwoh Chee Keong  Nanyang Technological University   \n",
       "2207        Kwok-Ping Chan           University of Hong Kong   \n",
       "2208  Kwok-Wai Cheung 0001      Hong Kong Baptist University   \n",
       "2209         Kwok-Wai Hung               Shenzhen University   \n",
       "2210          Kwok-Yan Lam  Nanyang Technological University   \n",
       "\n",
       "                                               homepage      scholarid  \n",
       "0     https://www.gla.ac.uk/schools/computing/staff/...   mgwLi-EAAAAJ  \n",
       "1                   http://pages.cpsc.ucalgary.ca/~boyd   C285XCoAAAAJ  \n",
       "2                           https://jflanigan.github.io   XpIsORcAAAAJ  \n",
       "3                                 http://gray.cs.ua.edu   83an8lYAAAAJ  \n",
       "4                       http://www.emba.uvm.edu/~dinitz   w9u7g3MAAAAJ  \n",
       "...                                                 ...            ...  \n",
       "2206                http://www.ntu.edu.sg/home/asckkwoh   jVn0wDMAAAAJ  \n",
       "2207                        https://i.cs.hku.hk/~kpchan   oas17QIAAAAJ  \n",
       "2208               http://www.comp.hkbu.edu.hk/~william   e42JkYIAAAAJ  \n",
       "2209    http://www.escience.cn/people/kwhung/index.html   61DydQUAAAAJ  \n",
       "2210  http://research.ntu.edu.sg/expertise/academicp...  NOSCHOLARPAGE  \n",
       "\n",
       "[2211 rows x 4 columns]"
      ],
      "text/html": "<div>\n<style scoped>\n    .dataframe tbody tr th:only-of-type {\n        vertical-align: middle;\n    }\n\n    .dataframe tbody tr th {\n        vertical-align: top;\n    }\n\n    .dataframe thead th {\n        text-align: right;\n    }\n</style>\n<table border=\"1\" class=\"dataframe\">\n  <thead>\n    <tr style=\"text-align: right;\">\n      <th></th>\n      <th>name</th>\n      <th>affiliation</th>\n      <th>homepage</th>\n      <th>scholarid</th>\n    </tr>\n  </thead>\n  <tbody>\n    <tr>\n      <th>0</th>\n      <td>Jeffrey Dalton 0001</td>\n      <td>University of Glasgow</td>\n      <td>https://www.gla.ac.uk/schools/computing/staff/...</td>\n      <td>mgwLi-EAAAAJ</td>\n    </tr>\n    <tr>\n      <th>1</th>\n      <td>Jeffrey E. Boyd</td>\n      <td>University of Calgary</td>\n      <td>http://pages.cpsc.ucalgary.ca/~boyd</td>\n      <td>C285XCoAAAAJ</td>\n    </tr>\n    <tr>\n      <th>2</th>\n      <td>Jeffrey Flanigan</td>\n      <td>Univ. of California - Santa Cruz</td>\n      <td>https://jflanigan.github.io</td>\n      <td>XpIsORcAAAAJ</td>\n    </tr>\n    <tr>\n      <th>3</th>\n      <td>Jeffrey G. Gray</td>\n      <td>The University of Alabama</td>\n      <td>http://gray.cs.ua.edu</td>\n      <td>83an8lYAAAAJ</td>\n    </tr>\n    <tr>\n      <th>4</th>\n      <td>Jeffrey H. Dinitz</td>\n      <td>University of Vermont</td>\n      <td>http://www.emba.uvm.edu/~dinitz</td>\n      <td>w9u7g3MAAAAJ</td>\n    </tr>\n    <tr>\n      <th>...</th>\n      <td>...</td>\n      <td>...</td>\n      <td>...</td>\n      <td>...</td>\n    </tr>\n    <tr>\n      <th>2206</th>\n      <td>Kwoh Chee Keong</td>\n      <td>Nanyang Technological University</td>\n      <td>http://www.ntu.edu.sg/home/asckkwoh</td>\n      <td>jVn0wDMAAAAJ</td>\n    </tr>\n    <tr>\n      <th>2207</th>\n      <td>Kwok-Ping Chan</td>\n      <td>University of Hong Kong</td>\n      <td>https://i.cs.hku.hk/~kpchan</td>\n      <td>oas17QIAAAAJ</td>\n    </tr>\n    <tr>\n      <th>2208</th>\n      <td>Kwok-Wai Cheung 0001</td>\n      <td>Hong Kong Baptist University</td>\n      <td>http://www.comp.hkbu.edu.hk/~william</td>\n      <td>e42JkYIAAAAJ</td>\n    </tr>\n    <tr>\n      <th>2209</th>\n      <td>Kwok-Wai Hung</td>\n      <td>Shenzhen University</td>\n      <td>http://www.escience.cn/people/kwhung/index.html</td>\n      <td>61DydQUAAAAJ</td>\n    </tr>\n    <tr>\n      <th>2210</th>\n      <td>Kwok-Yan Lam</td>\n      <td>Nanyang Technological University</td>\n      <td>http://research.ntu.edu.sg/expertise/academicp...</td>\n      <td>NOSCHOLARPAGE</td>\n    </tr>\n  </tbody>\n</table>\n<p>2211 rows × 4 columns</p>\n</div>"
     },
     "metadata": {},
     "execution_count": 10
    }
   ],
   "source": [
    "cs4 = pd.read_csv(\"csrankings-4.csv\")\n",
    "cs4"
   ]
  },
  {
   "cell_type": "code",
   "execution_count": 11,
   "metadata": {},
   "outputs": [
    {
     "output_type": "execute_result",
     "data": {
      "text/plain": [
       "                    name                       affiliation  \\\n",
       "0        Kwong-Sak Leung   Chinese University of Hong Kong   \n",
       "1       Kyla A. McMullen             University of Florida   \n",
       "2           Kyle C. Hale  Illinois Institute of Technology   \n",
       "3               Kyle Fox     University of Texas at Dallas   \n",
       "4          Kyle Jamieson              Princeton University   \n",
       "...                  ...                               ...   \n",
       "2212       Michael Lewis          University of Pittsburgh   \n",
       "2213  Michael Lindenbaum                          Technion   \n",
       "2214        Michael Luck             King's College London   \n",
       "2215      Michael Lustig    Univ. of California - Berkeley   \n",
       "2216  Michael M. Kazhdan          Johns Hopkins University   \n",
       "\n",
       "                                               homepage      scholarid  \n",
       "0                    http://www.cs.cuhk.edu.hk/~ksleung   x--r9cIAAAAJ  \n",
       "1          https://www.cise.ufl.edu/people/faculty/kyla   DzvXnyoAAAAJ  \n",
       "2      https://science.iit.edu/people/faculty/kyle-hale   zYAOJqwAAAAJ  \n",
       "3                         http://utdallas.edu/~kyle.fox   7TKz5UgAAAAJ  \n",
       "4                   https://www.cs.princeton.edu/~kylej  NOSCHOLARPAGE  \n",
       "...                                                 ...            ...  \n",
       "2212                       http://www.pitt.edu/~cmlewis   BBS25qkAAAAJ  \n",
       "2213                  http://www.cs.technion.ac.il/~mic  NOSCHOLARPAGE  \n",
       "2214  https://www.kcl.ac.uk/people/professor-michael...   mKVcy8sAAAAJ  \n",
       "2215  https://www2.eecs.berkeley.edu/Faculty/Homepag...   EWY1qlkAAAAJ  \n",
       "2216                       http://www.cs.jhu.edu/~misha   soUq_eQAAAAJ  \n",
       "\n",
       "[2217 rows x 4 columns]"
      ],
      "text/html": "<div>\n<style scoped>\n    .dataframe tbody tr th:only-of-type {\n        vertical-align: middle;\n    }\n\n    .dataframe tbody tr th {\n        vertical-align: top;\n    }\n\n    .dataframe thead th {\n        text-align: right;\n    }\n</style>\n<table border=\"1\" class=\"dataframe\">\n  <thead>\n    <tr style=\"text-align: right;\">\n      <th></th>\n      <th>name</th>\n      <th>affiliation</th>\n      <th>homepage</th>\n      <th>scholarid</th>\n    </tr>\n  </thead>\n  <tbody>\n    <tr>\n      <th>0</th>\n      <td>Kwong-Sak Leung</td>\n      <td>Chinese University of Hong Kong</td>\n      <td>http://www.cs.cuhk.edu.hk/~ksleung</td>\n      <td>x--r9cIAAAAJ</td>\n    </tr>\n    <tr>\n      <th>1</th>\n      <td>Kyla A. McMullen</td>\n      <td>University of Florida</td>\n      <td>https://www.cise.ufl.edu/people/faculty/kyla</td>\n      <td>DzvXnyoAAAAJ</td>\n    </tr>\n    <tr>\n      <th>2</th>\n      <td>Kyle C. Hale</td>\n      <td>Illinois Institute of Technology</td>\n      <td>https://science.iit.edu/people/faculty/kyle-hale</td>\n      <td>zYAOJqwAAAAJ</td>\n    </tr>\n    <tr>\n      <th>3</th>\n      <td>Kyle Fox</td>\n      <td>University of Texas at Dallas</td>\n      <td>http://utdallas.edu/~kyle.fox</td>\n      <td>7TKz5UgAAAAJ</td>\n    </tr>\n    <tr>\n      <th>4</th>\n      <td>Kyle Jamieson</td>\n      <td>Princeton University</td>\n      <td>https://www.cs.princeton.edu/~kylej</td>\n      <td>NOSCHOLARPAGE</td>\n    </tr>\n    <tr>\n      <th>...</th>\n      <td>...</td>\n      <td>...</td>\n      <td>...</td>\n      <td>...</td>\n    </tr>\n    <tr>\n      <th>2212</th>\n      <td>Michael Lewis</td>\n      <td>University of Pittsburgh</td>\n      <td>http://www.pitt.edu/~cmlewis</td>\n      <td>BBS25qkAAAAJ</td>\n    </tr>\n    <tr>\n      <th>2213</th>\n      <td>Michael Lindenbaum</td>\n      <td>Technion</td>\n      <td>http://www.cs.technion.ac.il/~mic</td>\n      <td>NOSCHOLARPAGE</td>\n    </tr>\n    <tr>\n      <th>2214</th>\n      <td>Michael Luck</td>\n      <td>King's College London</td>\n      <td>https://www.kcl.ac.uk/people/professor-michael...</td>\n      <td>mKVcy8sAAAAJ</td>\n    </tr>\n    <tr>\n      <th>2215</th>\n      <td>Michael Lustig</td>\n      <td>Univ. of California - Berkeley</td>\n      <td>https://www2.eecs.berkeley.edu/Faculty/Homepag...</td>\n      <td>EWY1qlkAAAAJ</td>\n    </tr>\n    <tr>\n      <th>2216</th>\n      <td>Michael M. Kazhdan</td>\n      <td>Johns Hopkins University</td>\n      <td>http://www.cs.jhu.edu/~misha</td>\n      <td>soUq_eQAAAAJ</td>\n    </tr>\n  </tbody>\n</table>\n<p>2217 rows × 4 columns</p>\n</div>"
     },
     "metadata": {},
     "execution_count": 11
    }
   ],
   "source": [
    "cs5 = pd.read_csv(\"csrankings-5.csv\")\n",
    "cs5"
   ]
  },
  {
   "cell_type": "code",
   "execution_count": 12,
   "metadata": {},
   "outputs": [
    {
     "output_type": "execute_result",
     "data": {
      "text/plain": [
       "                         name                        affiliation  \\\n",
       "0     Michael M. Mitzenmacher                 Harvard University   \n",
       "1            Michael M. Swift  University of Wisconsin - Madison   \n",
       "2               Michael Maire              University of Chicago   \n",
       "3              Michael Mandel                               CUNY   \n",
       "4              Michael Mangan            University of Sheffield   \n",
       "...                       ...                                ...   \n",
       "2204        Philip J. Hatcher        University of New Hampshire   \n",
       "2205           Philip Jia Guo    Univ. of California - San Diego   \n",
       "2206       Philip K. McKinley          Michigan State University   \n",
       "2207             Philip Levis                Stanford University   \n",
       "2208        Philip M. Johnson      University of Hawaii at Manoa   \n",
       "\n",
       "                                               homepage     scholarid  \n",
       "0                 http://www.eecs.harvard.edu/~michaelm  e8aRmAsAAAAJ  \n",
       "1                       http://pages.cs.wisc.edu/~swift  pqIGLH4AAAAJ  \n",
       "2                      http://ttic.uchicago.edu/~mmaire  HXowq5YAAAAJ  \n",
       "3     http://www.brooklyn.cuny.edu/web/academics/fac...  0v1-axgAAAAJ  \n",
       "4     https://www.sheffield.ac.uk/dcs/people/academi...  VeeNOGgAAAAJ  \n",
       "...                                                 ...           ...  \n",
       "2204                         http://www.cs.unh.edu/~pjh  Dd2SKGAAAAAJ  \n",
       "2205                                http://pgbovine.net  CKXeqHoAAAAJ  \n",
       "2206                   http://www.cse.msu.edu/~mckinley  70oIOKIAAAAJ  \n",
       "2207                       http://csl.stanford.edu/~pal  I_YsXU4AAAAJ  \n",
       "2208                          http://philipmjohnson.org  D37QzE4AAAAJ  \n",
       "\n",
       "[2209 rows x 4 columns]"
      ],
      "text/html": "<div>\n<style scoped>\n    .dataframe tbody tr th:only-of-type {\n        vertical-align: middle;\n    }\n\n    .dataframe tbody tr th {\n        vertical-align: top;\n    }\n\n    .dataframe thead th {\n        text-align: right;\n    }\n</style>\n<table border=\"1\" class=\"dataframe\">\n  <thead>\n    <tr style=\"text-align: right;\">\n      <th></th>\n      <th>name</th>\n      <th>affiliation</th>\n      <th>homepage</th>\n      <th>scholarid</th>\n    </tr>\n  </thead>\n  <tbody>\n    <tr>\n      <th>0</th>\n      <td>Michael M. Mitzenmacher</td>\n      <td>Harvard University</td>\n      <td>http://www.eecs.harvard.edu/~michaelm</td>\n      <td>e8aRmAsAAAAJ</td>\n    </tr>\n    <tr>\n      <th>1</th>\n      <td>Michael M. Swift</td>\n      <td>University of Wisconsin - Madison</td>\n      <td>http://pages.cs.wisc.edu/~swift</td>\n      <td>pqIGLH4AAAAJ</td>\n    </tr>\n    <tr>\n      <th>2</th>\n      <td>Michael Maire</td>\n      <td>University of Chicago</td>\n      <td>http://ttic.uchicago.edu/~mmaire</td>\n      <td>HXowq5YAAAAJ</td>\n    </tr>\n    <tr>\n      <th>3</th>\n      <td>Michael Mandel</td>\n      <td>CUNY</td>\n      <td>http://www.brooklyn.cuny.edu/web/academics/fac...</td>\n      <td>0v1-axgAAAAJ</td>\n    </tr>\n    <tr>\n      <th>4</th>\n      <td>Michael Mangan</td>\n      <td>University of Sheffield</td>\n      <td>https://www.sheffield.ac.uk/dcs/people/academi...</td>\n      <td>VeeNOGgAAAAJ</td>\n    </tr>\n    <tr>\n      <th>...</th>\n      <td>...</td>\n      <td>...</td>\n      <td>...</td>\n      <td>...</td>\n    </tr>\n    <tr>\n      <th>2204</th>\n      <td>Philip J. Hatcher</td>\n      <td>University of New Hampshire</td>\n      <td>http://www.cs.unh.edu/~pjh</td>\n      <td>Dd2SKGAAAAAJ</td>\n    </tr>\n    <tr>\n      <th>2205</th>\n      <td>Philip Jia Guo</td>\n      <td>Univ. of California - San Diego</td>\n      <td>http://pgbovine.net</td>\n      <td>CKXeqHoAAAAJ</td>\n    </tr>\n    <tr>\n      <th>2206</th>\n      <td>Philip K. McKinley</td>\n      <td>Michigan State University</td>\n      <td>http://www.cse.msu.edu/~mckinley</td>\n      <td>70oIOKIAAAAJ</td>\n    </tr>\n    <tr>\n      <th>2207</th>\n      <td>Philip Levis</td>\n      <td>Stanford University</td>\n      <td>http://csl.stanford.edu/~pal</td>\n      <td>I_YsXU4AAAAJ</td>\n    </tr>\n    <tr>\n      <th>2208</th>\n      <td>Philip M. Johnson</td>\n      <td>University of Hawaii at Manoa</td>\n      <td>http://philipmjohnson.org</td>\n      <td>D37QzE4AAAAJ</td>\n    </tr>\n  </tbody>\n</table>\n<p>2209 rows × 4 columns</p>\n</div>"
     },
     "metadata": {},
     "execution_count": 12
    }
   ],
   "source": [
    "cs6 = pd.read_csv(\"csrankings-6.csv\")\n",
    "cs6"
   ]
  },
  {
   "cell_type": "code",
   "execution_count": 13,
   "metadata": {},
   "outputs": [
    {
     "output_type": "execute_result",
     "data": {
      "text/plain": [
       "                    name                            affiliation  \\\n",
       "0        Philip N. Brown                                   UCCS   \n",
       "1        Philip N. Klein                       Brown University   \n",
       "2          Philip O'Kane             Queen's University Belfast   \n",
       "3          Philip Resnik  University of Maryland - College Park   \n",
       "4       Philip S. Thomas    University of Massachusetts Amherst   \n",
       "...                  ...                                    ...   \n",
       "2200  Seungyong Lee 0001                                POSTECH   \n",
       "2201     Sevag Gharibian       Virginia Commonwealth University   \n",
       "2202           Sevil Sen                   Hacettepe University   \n",
       "2203          Sewoong Oh               University of Washington   \n",
       "2204       Seyda Ertekin       Middle East Technical University   \n",
       "\n",
       "                                               homepage      scholarid  \n",
       "0                http://cs.uccs.edu/~pbrown2/index.html   3vqqlMwAAAAJ  \n",
       "1                              http://cs.brown.edu/~pnk   gVUD47sAAAAJ  \n",
       "2     https://www.qub.ac.uk/schools/eeecs/Connect/St...  NOSCHOLARPAGE  \n",
       "3                     http://www.umiacs.umd.edu/~resnik   71BFWc0AAAAJ  \n",
       "4                                   http://psthomas.com   kkqXAnUAAAAJ  \n",
       "...                                                 ...            ...  \n",
       "2200               http://cg.postech.ac.kr/publications   yGPH-nAAAAAJ  \n",
       "2201              http://www.people.vcu.edu/~sgharibian   k5G1dE0AAAAJ  \n",
       "2202              https://web.cs.hacettepe.edu.tr/~ssen   Wqy6xC8AAAAJ  \n",
       "2203                  http://swoh.web.engr.illinois.edu   55TAOdgAAAAJ  \n",
       "2204                       http://web.mit.edu/seyda/www   8KrHjE0AAAAJ  \n",
       "\n",
       "[2205 rows x 4 columns]"
      ],
      "text/html": "<div>\n<style scoped>\n    .dataframe tbody tr th:only-of-type {\n        vertical-align: middle;\n    }\n\n    .dataframe tbody tr th {\n        vertical-align: top;\n    }\n\n    .dataframe thead th {\n        text-align: right;\n    }\n</style>\n<table border=\"1\" class=\"dataframe\">\n  <thead>\n    <tr style=\"text-align: right;\">\n      <th></th>\n      <th>name</th>\n      <th>affiliation</th>\n      <th>homepage</th>\n      <th>scholarid</th>\n    </tr>\n  </thead>\n  <tbody>\n    <tr>\n      <th>0</th>\n      <td>Philip N. Brown</td>\n      <td>UCCS</td>\n      <td>http://cs.uccs.edu/~pbrown2/index.html</td>\n      <td>3vqqlMwAAAAJ</td>\n    </tr>\n    <tr>\n      <th>1</th>\n      <td>Philip N. Klein</td>\n      <td>Brown University</td>\n      <td>http://cs.brown.edu/~pnk</td>\n      <td>gVUD47sAAAAJ</td>\n    </tr>\n    <tr>\n      <th>2</th>\n      <td>Philip O'Kane</td>\n      <td>Queen's University Belfast</td>\n      <td>https://www.qub.ac.uk/schools/eeecs/Connect/St...</td>\n      <td>NOSCHOLARPAGE</td>\n    </tr>\n    <tr>\n      <th>3</th>\n      <td>Philip Resnik</td>\n      <td>University of Maryland - College Park</td>\n      <td>http://www.umiacs.umd.edu/~resnik</td>\n      <td>71BFWc0AAAAJ</td>\n    </tr>\n    <tr>\n      <th>4</th>\n      <td>Philip S. Thomas</td>\n      <td>University of Massachusetts Amherst</td>\n      <td>http://psthomas.com</td>\n      <td>kkqXAnUAAAAJ</td>\n    </tr>\n    <tr>\n      <th>...</th>\n      <td>...</td>\n      <td>...</td>\n      <td>...</td>\n      <td>...</td>\n    </tr>\n    <tr>\n      <th>2200</th>\n      <td>Seungyong Lee 0001</td>\n      <td>POSTECH</td>\n      <td>http://cg.postech.ac.kr/publications</td>\n      <td>yGPH-nAAAAAJ</td>\n    </tr>\n    <tr>\n      <th>2201</th>\n      <td>Sevag Gharibian</td>\n      <td>Virginia Commonwealth University</td>\n      <td>http://www.people.vcu.edu/~sgharibian</td>\n      <td>k5G1dE0AAAAJ</td>\n    </tr>\n    <tr>\n      <th>2202</th>\n      <td>Sevil Sen</td>\n      <td>Hacettepe University</td>\n      <td>https://web.cs.hacettepe.edu.tr/~ssen</td>\n      <td>Wqy6xC8AAAAJ</td>\n    </tr>\n    <tr>\n      <th>2203</th>\n      <td>Sewoong Oh</td>\n      <td>University of Washington</td>\n      <td>http://swoh.web.engr.illinois.edu</td>\n      <td>55TAOdgAAAAJ</td>\n    </tr>\n    <tr>\n      <th>2204</th>\n      <td>Seyda Ertekin</td>\n      <td>Middle East Technical University</td>\n      <td>http://web.mit.edu/seyda/www</td>\n      <td>8KrHjE0AAAAJ</td>\n    </tr>\n  </tbody>\n</table>\n<p>2205 rows × 4 columns</p>\n</div>"
     },
     "metadata": {},
     "execution_count": 13
    }
   ],
   "source": [
    "cs7 = pd.read_csv(\"csrankings-7.csv\")\n",
    "cs7"
   ]
  },
  {
   "cell_type": "code",
   "execution_count": 14,
   "metadata": {},
   "outputs": [
    {
     "output_type": "execute_result",
     "data": {
      "text/plain": [
       "                         name                      affiliation  \\\n",
       "0     Seyed Abolfazl Motahari  Sharif University of Technology   \n",
       "1        Seyed Ebrahim Abtahi  Sharif University of Technology   \n",
       "2      Seyed Ghassem Miremadi  Sharif University of Technology   \n",
       "3         Seyed Hamed Hassani       University of Pennsylvania   \n",
       "4         Seyed Hassan Mirian  Sharif University of Technology   \n",
       "...                       ...                              ...   \n",
       "2193       Ulrich Schmid 0001                          TU Wien   \n",
       "2194            Ulrich Sorger         University of Luxembourg   \n",
       "2195           Ulrich Speidel           University of Auckland   \n",
       "2196             Ulrik Larsen               Aalborg University   \n",
       "2197              Ulrik Nyman               Aalborg University   \n",
       "\n",
       "                                               homepage      scholarid  \n",
       "0        http://ce.sharif.edu/faculty/abolfazl-motahari   rJ-biB0AAAAJ  \n",
       "1                             http://sharif.edu/~abtahi  NOSCHOLARPAGE  \n",
       "2                    http://sina.sharif.ac.ir/~miremadi   LjQ5PFYAAAAJ  \n",
       "3                   https://www.seas.upenn.edu/~hassani  NOSCHOLARPAGE  \n",
       "4                          http://ce.sharif.edu/~mirian  NOSCHOLARPAGE  \n",
       "...                                                 ...            ...  \n",
       "2193          https://ti.tuwien.ac.at/ecs/people/schmid  NOSCHOLARPAGE  \n",
       "2194  http://wwwen.uni.lu/recherche/fstc/computer_sc...  NOSCHOLARPAGE  \n",
       "2195              http://www.tcs.auckland.ac.nz/~ulrich  NOSCHOLARPAGE  \n",
       "2196                           http://ulrik.blog.aau.dk   Z3FXuI0AAAAJ  \n",
       "2197                           http://ulrik.blog.aau.dk   Z3FXuI0AAAAJ  \n",
       "\n",
       "[2198 rows x 4 columns]"
      ],
      "text/html": "<div>\n<style scoped>\n    .dataframe tbody tr th:only-of-type {\n        vertical-align: middle;\n    }\n\n    .dataframe tbody tr th {\n        vertical-align: top;\n    }\n\n    .dataframe thead th {\n        text-align: right;\n    }\n</style>\n<table border=\"1\" class=\"dataframe\">\n  <thead>\n    <tr style=\"text-align: right;\">\n      <th></th>\n      <th>name</th>\n      <th>affiliation</th>\n      <th>homepage</th>\n      <th>scholarid</th>\n    </tr>\n  </thead>\n  <tbody>\n    <tr>\n      <th>0</th>\n      <td>Seyed Abolfazl Motahari</td>\n      <td>Sharif University of Technology</td>\n      <td>http://ce.sharif.edu/faculty/abolfazl-motahari</td>\n      <td>rJ-biB0AAAAJ</td>\n    </tr>\n    <tr>\n      <th>1</th>\n      <td>Seyed Ebrahim Abtahi</td>\n      <td>Sharif University of Technology</td>\n      <td>http://sharif.edu/~abtahi</td>\n      <td>NOSCHOLARPAGE</td>\n    </tr>\n    <tr>\n      <th>2</th>\n      <td>Seyed Ghassem Miremadi</td>\n      <td>Sharif University of Technology</td>\n      <td>http://sina.sharif.ac.ir/~miremadi</td>\n      <td>LjQ5PFYAAAAJ</td>\n    </tr>\n    <tr>\n      <th>3</th>\n      <td>Seyed Hamed Hassani</td>\n      <td>University of Pennsylvania</td>\n      <td>https://www.seas.upenn.edu/~hassani</td>\n      <td>NOSCHOLARPAGE</td>\n    </tr>\n    <tr>\n      <th>4</th>\n      <td>Seyed Hassan Mirian</td>\n      <td>Sharif University of Technology</td>\n      <td>http://ce.sharif.edu/~mirian</td>\n      <td>NOSCHOLARPAGE</td>\n    </tr>\n    <tr>\n      <th>...</th>\n      <td>...</td>\n      <td>...</td>\n      <td>...</td>\n      <td>...</td>\n    </tr>\n    <tr>\n      <th>2193</th>\n      <td>Ulrich Schmid 0001</td>\n      <td>TU Wien</td>\n      <td>https://ti.tuwien.ac.at/ecs/people/schmid</td>\n      <td>NOSCHOLARPAGE</td>\n    </tr>\n    <tr>\n      <th>2194</th>\n      <td>Ulrich Sorger</td>\n      <td>University of Luxembourg</td>\n      <td>http://wwwen.uni.lu/recherche/fstc/computer_sc...</td>\n      <td>NOSCHOLARPAGE</td>\n    </tr>\n    <tr>\n      <th>2195</th>\n      <td>Ulrich Speidel</td>\n      <td>University of Auckland</td>\n      <td>http://www.tcs.auckland.ac.nz/~ulrich</td>\n      <td>NOSCHOLARPAGE</td>\n    </tr>\n    <tr>\n      <th>2196</th>\n      <td>Ulrik Larsen</td>\n      <td>Aalborg University</td>\n      <td>http://ulrik.blog.aau.dk</td>\n      <td>Z3FXuI0AAAAJ</td>\n    </tr>\n    <tr>\n      <th>2197</th>\n      <td>Ulrik Nyman</td>\n      <td>Aalborg University</td>\n      <td>http://ulrik.blog.aau.dk</td>\n      <td>Z3FXuI0AAAAJ</td>\n    </tr>\n  </tbody>\n</table>\n<p>2198 rows × 4 columns</p>\n</div>"
     },
     "metadata": {},
     "execution_count": 14
    }
   ],
   "source": [
    "cs8 = pd.read_csv(\"csrankings-8.csv\")\n",
    "cs8"
   ]
  },
  {
   "cell_type": "code",
   "execution_count": 15,
   "metadata": {},
   "outputs": [
    {
     "output_type": "execute_result",
     "data": {
      "text/plain": [
       "                       name                      affiliation  \\\n",
       "0           Ulrik Schroeder                      RWTH Aachen   \n",
       "1            Ulrike Lechner     Bundeswehr University Munich   \n",
       "2              Ulrike Lucke            University of Potsdam   \n",
       "3              Ulrike Meyer                      RWTH Aachen   \n",
       "4            Ulrike Sattler         University of Manchester   \n",
       "...                     ...                              ...   \n",
       "2216  Óscar Cánovas Reverte             University of Murcia   \n",
       "2217      Özcan Özturk 0001               Bilkent University   \n",
       "2218           Öznur Tastan               Sabancı University   \n",
       "2219          Öznur Özkasap                   Koç University   \n",
       "2220     Ümit V. Çatalyürek  Georgia Institute of Technology   \n",
       "\n",
       "                                               homepage      scholarid  \n",
       "0             http://learntech.rwth-aachen.de/schroeder   8EYyC1MAAAAJ  \n",
       "1            https://www.unibw.de/wirtschaftsinformatik   OzCAdaMAAAAJ  \n",
       "2     https://www.uni-potsdam.de/de/multimedia/team/...  NOSCHOLARPAGE  \n",
       "3     https://itsec.rwth-aachen.de/people/prof.-dr.-...   y9RHiq0AAAAJ  \n",
       "4                      http://www.cs.man.ac.uk/~sattler  NOSCHOLARPAGE  \n",
       "...                                                 ...            ...  \n",
       "2216         http://webs.um.es/ocanovas/miwiki/doku.php   iAPkCb8AAAAJ  \n",
       "2217               http://www.cs.bilkent.edu.tr/~ozturk   YZQ0KIcAAAAJ  \n",
       "2218              http://people.sabanciuniv.edu/otastan   8ljjXmEAAAAJ  \n",
       "2219                    http://home.ku.edu.tr/~oozkasap   v2WiJeIAAAAJ  \n",
       "2220                    https://www.cc.gatech.edu/~umit   OLDMURQAAAAJ  \n",
       "\n",
       "[2221 rows x 4 columns]"
      ],
      "text/html": "<div>\n<style scoped>\n    .dataframe tbody tr th:only-of-type {\n        vertical-align: middle;\n    }\n\n    .dataframe tbody tr th {\n        vertical-align: top;\n    }\n\n    .dataframe thead th {\n        text-align: right;\n    }\n</style>\n<table border=\"1\" class=\"dataframe\">\n  <thead>\n    <tr style=\"text-align: right;\">\n      <th></th>\n      <th>name</th>\n      <th>affiliation</th>\n      <th>homepage</th>\n      <th>scholarid</th>\n    </tr>\n  </thead>\n  <tbody>\n    <tr>\n      <th>0</th>\n      <td>Ulrik Schroeder</td>\n      <td>RWTH Aachen</td>\n      <td>http://learntech.rwth-aachen.de/schroeder</td>\n      <td>8EYyC1MAAAAJ</td>\n    </tr>\n    <tr>\n      <th>1</th>\n      <td>Ulrike Lechner</td>\n      <td>Bundeswehr University Munich</td>\n      <td>https://www.unibw.de/wirtschaftsinformatik</td>\n      <td>OzCAdaMAAAAJ</td>\n    </tr>\n    <tr>\n      <th>2</th>\n      <td>Ulrike Lucke</td>\n      <td>University of Potsdam</td>\n      <td>https://www.uni-potsdam.de/de/multimedia/team/...</td>\n      <td>NOSCHOLARPAGE</td>\n    </tr>\n    <tr>\n      <th>3</th>\n      <td>Ulrike Meyer</td>\n      <td>RWTH Aachen</td>\n      <td>https://itsec.rwth-aachen.de/people/prof.-dr.-...</td>\n      <td>y9RHiq0AAAAJ</td>\n    </tr>\n    <tr>\n      <th>4</th>\n      <td>Ulrike Sattler</td>\n      <td>University of Manchester</td>\n      <td>http://www.cs.man.ac.uk/~sattler</td>\n      <td>NOSCHOLARPAGE</td>\n    </tr>\n    <tr>\n      <th>...</th>\n      <td>...</td>\n      <td>...</td>\n      <td>...</td>\n      <td>...</td>\n    </tr>\n    <tr>\n      <th>2216</th>\n      <td>Óscar Cánovas Reverte</td>\n      <td>University of Murcia</td>\n      <td>http://webs.um.es/ocanovas/miwiki/doku.php</td>\n      <td>iAPkCb8AAAAJ</td>\n    </tr>\n    <tr>\n      <th>2217</th>\n      <td>Özcan Özturk 0001</td>\n      <td>Bilkent University</td>\n      <td>http://www.cs.bilkent.edu.tr/~ozturk</td>\n      <td>YZQ0KIcAAAAJ</td>\n    </tr>\n    <tr>\n      <th>2218</th>\n      <td>Öznur Tastan</td>\n      <td>Sabancı University</td>\n      <td>http://people.sabanciuniv.edu/otastan</td>\n      <td>8ljjXmEAAAAJ</td>\n    </tr>\n    <tr>\n      <th>2219</th>\n      <td>Öznur Özkasap</td>\n      <td>Koç University</td>\n      <td>http://home.ku.edu.tr/~oozkasap</td>\n      <td>v2WiJeIAAAAJ</td>\n    </tr>\n    <tr>\n      <th>2220</th>\n      <td>Ümit V. Çatalyürek</td>\n      <td>Georgia Institute of Technology</td>\n      <td>https://www.cc.gatech.edu/~umit</td>\n      <td>OLDMURQAAAAJ</td>\n    </tr>\n  </tbody>\n</table>\n<p>2221 rows × 4 columns</p>\n</div>"
     },
     "metadata": {},
     "execution_count": 15
    }
   ],
   "source": [
    "cs9 = pd.read_csv(\"csrankings-9.csv\")\n",
    "cs9"
   ]
  },
  {
   "cell_type": "code",
   "execution_count": 16,
   "metadata": {},
   "outputs": [
    {
     "output_type": "execute_result",
     "data": {
      "text/plain": [
       "                         name                      affiliation  \\\n",
       "0                  A Min Tjoa                          TU Wien   \n",
       "1              A. Aldo Faisal          Imperial College London   \n",
       "2          A. Antony Franklin                    IIT Hyderabad   \n",
       "3      A. B. M. Alim Al Islam                             BUET   \n",
       "4               A. C. Cem Say              Boğaziçi University   \n",
       "...                       ...                              ...   \n",
       "24323   Óscar Cánovas Reverte             University of Murcia   \n",
       "24324       Özcan Özturk 0001               Bilkent University   \n",
       "24325            Öznur Tastan               Sabancı University   \n",
       "24326           Öznur Özkasap                   Koç University   \n",
       "24327      Ümit V. Çatalyürek  Georgia Institute of Technology   \n",
       "\n",
       "                                           homepage     scholarid  \n",
       "0                  http://www.ifs.tuwien.ac.at/tjoa  x8qCMhcAAAAJ  \n",
       "1        https://www.imperial.ac.uk/people/a.faisal  WjHjbrwAAAAJ  \n",
       "2          http://www.iith.ac.in/~antony/index.html  LVfqLuoAAAAJ  \n",
       "3      https://sites.google.com/site/abmalimalislam  K-AIPzQAAAAJ  \n",
       "4                 https://www.cmpe.boun.edu.tr/~say  rOum2XsAAAAJ  \n",
       "...                                             ...           ...  \n",
       "24323    http://webs.um.es/ocanovas/miwiki/doku.php  iAPkCb8AAAAJ  \n",
       "24324          http://www.cs.bilkent.edu.tr/~ozturk  YZQ0KIcAAAAJ  \n",
       "24325         http://people.sabanciuniv.edu/otastan  8ljjXmEAAAAJ  \n",
       "24326               http://home.ku.edu.tr/~oozkasap  v2WiJeIAAAAJ  \n",
       "24327               https://www.cc.gatech.edu/~umit  OLDMURQAAAAJ  \n",
       "\n",
       "[24328 rows x 4 columns]"
      ],
      "text/html": "<div>\n<style scoped>\n    .dataframe tbody tr th:only-of-type {\n        vertical-align: middle;\n    }\n\n    .dataframe tbody tr th {\n        vertical-align: top;\n    }\n\n    .dataframe thead th {\n        text-align: right;\n    }\n</style>\n<table border=\"1\" class=\"dataframe\">\n  <thead>\n    <tr style=\"text-align: right;\">\n      <th></th>\n      <th>name</th>\n      <th>affiliation</th>\n      <th>homepage</th>\n      <th>scholarid</th>\n    </tr>\n  </thead>\n  <tbody>\n    <tr>\n      <th>0</th>\n      <td>A Min Tjoa</td>\n      <td>TU Wien</td>\n      <td>http://www.ifs.tuwien.ac.at/tjoa</td>\n      <td>x8qCMhcAAAAJ</td>\n    </tr>\n    <tr>\n      <th>1</th>\n      <td>A. Aldo Faisal</td>\n      <td>Imperial College London</td>\n      <td>https://www.imperial.ac.uk/people/a.faisal</td>\n      <td>WjHjbrwAAAAJ</td>\n    </tr>\n    <tr>\n      <th>2</th>\n      <td>A. Antony Franklin</td>\n      <td>IIT Hyderabad</td>\n      <td>http://www.iith.ac.in/~antony/index.html</td>\n      <td>LVfqLuoAAAAJ</td>\n    </tr>\n    <tr>\n      <th>3</th>\n      <td>A. B. M. Alim Al Islam</td>\n      <td>BUET</td>\n      <td>https://sites.google.com/site/abmalimalislam</td>\n      <td>K-AIPzQAAAAJ</td>\n    </tr>\n    <tr>\n      <th>4</th>\n      <td>A. C. Cem Say</td>\n      <td>Boğaziçi University</td>\n      <td>https://www.cmpe.boun.edu.tr/~say</td>\n      <td>rOum2XsAAAAJ</td>\n    </tr>\n    <tr>\n      <th>...</th>\n      <td>...</td>\n      <td>...</td>\n      <td>...</td>\n      <td>...</td>\n    </tr>\n    <tr>\n      <th>24323</th>\n      <td>Óscar Cánovas Reverte</td>\n      <td>University of Murcia</td>\n      <td>http://webs.um.es/ocanovas/miwiki/doku.php</td>\n      <td>iAPkCb8AAAAJ</td>\n    </tr>\n    <tr>\n      <th>24324</th>\n      <td>Özcan Özturk 0001</td>\n      <td>Bilkent University</td>\n      <td>http://www.cs.bilkent.edu.tr/~ozturk</td>\n      <td>YZQ0KIcAAAAJ</td>\n    </tr>\n    <tr>\n      <th>24325</th>\n      <td>Öznur Tastan</td>\n      <td>Sabancı University</td>\n      <td>http://people.sabanciuniv.edu/otastan</td>\n      <td>8ljjXmEAAAAJ</td>\n    </tr>\n    <tr>\n      <th>24326</th>\n      <td>Öznur Özkasap</td>\n      <td>Koç University</td>\n      <td>http://home.ku.edu.tr/~oozkasap</td>\n      <td>v2WiJeIAAAAJ</td>\n    </tr>\n    <tr>\n      <th>24327</th>\n      <td>Ümit V. Çatalyürek</td>\n      <td>Georgia Institute of Technology</td>\n      <td>https://www.cc.gatech.edu/~umit</td>\n      <td>OLDMURQAAAAJ</td>\n    </tr>\n  </tbody>\n</table>\n<p>24328 rows × 4 columns</p>\n</div>"
     },
     "metadata": {},
     "execution_count": 16
    }
   ],
   "source": [
    "cs = pd.read_csv(\"csrankings.csv\")\n",
    "cs"
   ]
  },
  {
   "cell_type": "code",
   "execution_count": 64,
   "metadata": {},
   "outputs": [
    {
     "output_type": "error",
     "ename": "MaxTriesExceededException",
     "evalue": "Cannot Fetch from Google Scholar.",
     "traceback": [
      "\u001b[0;31m---------------------------------------------------------------------------\u001b[0m",
      "\u001b[0;31mMaxTriesExceededException\u001b[0m                 Traceback (most recent call last)",
      "\u001b[0;32m<ipython-input-64-46aab0c279ad>\u001b[0m in \u001b[0;36m<module>\u001b[0;34m\u001b[0m\n\u001b[1;32m      5\u001b[0m \u001b[0;34m\u001b[0m\u001b[0m\n\u001b[1;32m      6\u001b[0m \u001b[0;32mfor\u001b[0m \u001b[0mi\u001b[0m \u001b[0;32min\u001b[0m \u001b[0mrange\u001b[0m\u001b[0;34m(\u001b[0m\u001b[0;36m24328\u001b[0m\u001b[0;34m)\u001b[0m\u001b[0;34m:\u001b[0m\u001b[0;34m\u001b[0m\u001b[0;34m\u001b[0m\u001b[0m\n\u001b[0;32m----> 7\u001b[0;31m     \u001b[0mauthor\u001b[0m \u001b[0;34m=\u001b[0m \u001b[0mscholarly\u001b[0m\u001b[0;34m.\u001b[0m\u001b[0msearch_author_id\u001b[0m\u001b[0;34m(\u001b[0m\u001b[0mcs\u001b[0m\u001b[0;34m[\u001b[0m\u001b[0;34m'scholarid'\u001b[0m\u001b[0;34m]\u001b[0m\u001b[0;34m[\u001b[0m\u001b[0mi\u001b[0m\u001b[0;34m]\u001b[0m\u001b[0;34m)\u001b[0m\u001b[0;34m\u001b[0m\u001b[0;34m\u001b[0m\u001b[0m\n\u001b[0m\u001b[1;32m      8\u001b[0m     \u001b[0mcs\u001b[0m\u001b[0;34m[\u001b[0m\u001b[0;34m'citedby'\u001b[0m\u001b[0;34m]\u001b[0m\u001b[0;34m[\u001b[0m\u001b[0mi\u001b[0m\u001b[0;34m]\u001b[0m \u001b[0;34m=\u001b[0m \u001b[0mauthor\u001b[0m\u001b[0;34m[\u001b[0m\u001b[0;34m'citedby'\u001b[0m\u001b[0;34m]\u001b[0m\u001b[0;34m\u001b[0m\u001b[0;34m\u001b[0m\u001b[0m\n\u001b[1;32m      9\u001b[0m     \u001b[0mcs\u001b[0m\u001b[0;34m[\u001b[0m\u001b[0;34m'Research Interests'\u001b[0m\u001b[0;34m]\u001b[0m\u001b[0;34m[\u001b[0m\u001b[0mi\u001b[0m\u001b[0;34m]\u001b[0m \u001b[0;34m=\u001b[0m \u001b[0mauthor\u001b[0m\u001b[0;34m[\u001b[0m\u001b[0;34m'interests'\u001b[0m\u001b[0;34m]\u001b[0m\u001b[0;34m\u001b[0m\u001b[0;34m\u001b[0m\u001b[0m\n",
      "\u001b[0;32m~/.local/lib/python3.6/site-packages/scholarly/_scholarly.py\u001b[0m in \u001b[0;36msearch_author_id\u001b[0;34m(self, id, filled, sortby, publication_limit)\u001b[0m\n\u001b[1;32m    262\u001b[0m                  'source': 'AUTHOR_PROFILE_PAGE'}\n\u001b[1;32m    263\u001b[0m         \"\"\"\n\u001b[0;32m--> 264\u001b[0;31m         \u001b[0;32mreturn\u001b[0m \u001b[0mself\u001b[0m\u001b[0;34m.\u001b[0m\u001b[0m__nav\u001b[0m\u001b[0;34m.\u001b[0m\u001b[0msearch_author_id\u001b[0m\u001b[0;34m(\u001b[0m\u001b[0mid\u001b[0m\u001b[0;34m,\u001b[0m \u001b[0mfilled\u001b[0m\u001b[0;34m,\u001b[0m \u001b[0msortby\u001b[0m\u001b[0;34m,\u001b[0m \u001b[0mpublication_limit\u001b[0m\u001b[0;34m)\u001b[0m\u001b[0;34m\u001b[0m\u001b[0;34m\u001b[0m\u001b[0m\n\u001b[0m\u001b[1;32m    265\u001b[0m \u001b[0;34m\u001b[0m\u001b[0m\n\u001b[1;32m    266\u001b[0m     \u001b[0;32mdef\u001b[0m \u001b[0msearch_keyword\u001b[0m\u001b[0;34m(\u001b[0m\u001b[0mself\u001b[0m\u001b[0;34m,\u001b[0m \u001b[0mkeyword\u001b[0m\u001b[0;34m:\u001b[0m \u001b[0mstr\u001b[0m\u001b[0;34m)\u001b[0m\u001b[0;34m:\u001b[0m\u001b[0;34m\u001b[0m\u001b[0;34m\u001b[0m\u001b[0m\n",
      "\u001b[0;32m~/.local/lib/python3.6/site-packages/scholarly/_navigator.py\u001b[0m in \u001b[0;36msearch_author_id\u001b[0;34m(self, id, filled, sortby, publication_limit)\u001b[0m\n\u001b[1;32m    281\u001b[0m             \u001b[0mres\u001b[0m \u001b[0;34m=\u001b[0m \u001b[0mauthor_parser\u001b[0m\u001b[0;34m.\u001b[0m\u001b[0mfill\u001b[0m\u001b[0;34m(\u001b[0m\u001b[0mres\u001b[0m\u001b[0;34m,\u001b[0m \u001b[0msortby\u001b[0m\u001b[0;34m=\u001b[0m\u001b[0msortby\u001b[0m\u001b[0;34m,\u001b[0m \u001b[0mpublication_limit\u001b[0m\u001b[0;34m=\u001b[0m\u001b[0mpublication_limit\u001b[0m\u001b[0;34m)\u001b[0m\u001b[0;34m\u001b[0m\u001b[0;34m\u001b[0m\u001b[0m\n\u001b[1;32m    282\u001b[0m         \u001b[0;32melse\u001b[0m\u001b[0;34m:\u001b[0m\u001b[0;34m\u001b[0m\u001b[0;34m\u001b[0m\u001b[0m\n\u001b[0;32m--> 283\u001b[0;31m             \u001b[0mres\u001b[0m \u001b[0;34m=\u001b[0m \u001b[0mauthor_parser\u001b[0m\u001b[0;34m.\u001b[0m\u001b[0mfill\u001b[0m\u001b[0;34m(\u001b[0m\u001b[0mres\u001b[0m\u001b[0;34m,\u001b[0m \u001b[0msections\u001b[0m\u001b[0;34m=\u001b[0m\u001b[0;34m[\u001b[0m\u001b[0;34m'basics'\u001b[0m\u001b[0;34m]\u001b[0m\u001b[0;34m,\u001b[0m \u001b[0msortby\u001b[0m\u001b[0;34m=\u001b[0m\u001b[0msortby\u001b[0m\u001b[0;34m,\u001b[0m \u001b[0mpublication_limit\u001b[0m\u001b[0;34m=\u001b[0m\u001b[0mpublication_limit\u001b[0m\u001b[0;34m)\u001b[0m\u001b[0;34m\u001b[0m\u001b[0;34m\u001b[0m\u001b[0m\n\u001b[0m\u001b[1;32m    284\u001b[0m         \u001b[0;32mreturn\u001b[0m \u001b[0mres\u001b[0m\u001b[0;34m\u001b[0m\u001b[0;34m\u001b[0m\u001b[0m\n\u001b[1;32m    285\u001b[0m \u001b[0;34m\u001b[0m\u001b[0m\n",
      "\u001b[0;32m~/.local/lib/python3.6/site-packages/scholarly/author_parser.py\u001b[0m in \u001b[0;36mfill\u001b[0;34m(self, author, sections, sortby, publication_limit)\u001b[0m\n\u001b[1;32m    330\u001b[0m                         \u001b[0mauthor\u001b[0m\u001b[0;34m[\u001b[0m\u001b[0;34m'filled'\u001b[0m\u001b[0;34m]\u001b[0m\u001b[0;34m.\u001b[0m\u001b[0madd\u001b[0m\u001b[0;34m(\u001b[0m\u001b[0mi\u001b[0m\u001b[0;34m)\u001b[0m\u001b[0;34m\u001b[0m\u001b[0;34m\u001b[0m\u001b[0m\n\u001b[1;32m    331\u001b[0m         \u001b[0;32mexcept\u001b[0m \u001b[0mException\u001b[0m \u001b[0;32mas\u001b[0m \u001b[0me\u001b[0m\u001b[0;34m:\u001b[0m\u001b[0;34m\u001b[0m\u001b[0;34m\u001b[0m\u001b[0m\n\u001b[0;32m--> 332\u001b[0;31m             \u001b[0;32mraise\u001b[0m\u001b[0;34m(\u001b[0m\u001b[0me\u001b[0m\u001b[0;34m)\u001b[0m\u001b[0;34m\u001b[0m\u001b[0;34m\u001b[0m\u001b[0m\n\u001b[0m\u001b[1;32m    333\u001b[0m \u001b[0;34m\u001b[0m\u001b[0m\n\u001b[1;32m    334\u001b[0m         \u001b[0;32mreturn\u001b[0m \u001b[0mauthor\u001b[0m\u001b[0;34m\u001b[0m\u001b[0;34m\u001b[0m\u001b[0m\n",
      "\u001b[0;32m~/.local/lib/python3.6/site-packages/scholarly/author_parser.py\u001b[0m in \u001b[0;36mfill\u001b[0;34m(self, author, sections, sortby, publication_limit)\u001b[0m\n\u001b[1;32m    317\u001b[0m             \u001b[0murl_citations\u001b[0m \u001b[0;34m+=\u001b[0m \u001b[0msortby_str\u001b[0m\u001b[0;34m\u001b[0m\u001b[0;34m\u001b[0m\u001b[0m\n\u001b[1;32m    318\u001b[0m             \u001b[0murl\u001b[0m \u001b[0;34m=\u001b[0m \u001b[0;34m'{0}&pagesize={1}'\u001b[0m\u001b[0;34m.\u001b[0m\u001b[0mformat\u001b[0m\u001b[0;34m(\u001b[0m\u001b[0murl_citations\u001b[0m\u001b[0;34m,\u001b[0m \u001b[0m_PAGESIZE\u001b[0m\u001b[0;34m)\u001b[0m\u001b[0;34m\u001b[0m\u001b[0;34m\u001b[0m\u001b[0m\n\u001b[0;32m--> 319\u001b[0;31m             \u001b[0msoup\u001b[0m \u001b[0;34m=\u001b[0m \u001b[0mself\u001b[0m\u001b[0;34m.\u001b[0m\u001b[0mnav\u001b[0m\u001b[0;34m.\u001b[0m\u001b[0m_get_soup\u001b[0m\u001b[0;34m(\u001b[0m\u001b[0murl\u001b[0m\u001b[0;34m)\u001b[0m\u001b[0;34m\u001b[0m\u001b[0;34m\u001b[0m\u001b[0m\n\u001b[0m\u001b[1;32m    320\u001b[0m \u001b[0;34m\u001b[0m\u001b[0m\n\u001b[1;32m    321\u001b[0m             \u001b[0;32mif\u001b[0m \u001b[0msections\u001b[0m \u001b[0;34m==\u001b[0m \u001b[0;34m[\u001b[0m\u001b[0;34m]\u001b[0m\u001b[0;34m:\u001b[0m\u001b[0;34m\u001b[0m\u001b[0;34m\u001b[0m\u001b[0m\n",
      "\u001b[0;32m~/.local/lib/python3.6/site-packages/scholarly/_navigator.py\u001b[0m in \u001b[0;36m_get_soup\u001b[0;34m(self, url)\u001b[0m\n\u001b[1;32m    204\u001b[0m     \u001b[0;32mdef\u001b[0m \u001b[0m_get_soup\u001b[0m\u001b[0;34m(\u001b[0m\u001b[0mself\u001b[0m\u001b[0;34m,\u001b[0m \u001b[0murl\u001b[0m\u001b[0;34m:\u001b[0m \u001b[0mstr\u001b[0m\u001b[0;34m)\u001b[0m \u001b[0;34m->\u001b[0m \u001b[0mBeautifulSoup\u001b[0m\u001b[0;34m:\u001b[0m\u001b[0;34m\u001b[0m\u001b[0;34m\u001b[0m\u001b[0m\n\u001b[1;32m    205\u001b[0m         \u001b[0;34m\"\"\"Return the BeautifulSoup for a page on scholar.google.com\"\"\"\u001b[0m\u001b[0;34m\u001b[0m\u001b[0;34m\u001b[0m\u001b[0m\n\u001b[0;32m--> 206\u001b[0;31m         \u001b[0mhtml\u001b[0m \u001b[0;34m=\u001b[0m \u001b[0mself\u001b[0m\u001b[0;34m.\u001b[0m\u001b[0m_get_page\u001b[0m\u001b[0;34m(\u001b[0m\u001b[0;34m'https://scholar.google.com{0}'\u001b[0m\u001b[0;34m.\u001b[0m\u001b[0mformat\u001b[0m\u001b[0;34m(\u001b[0m\u001b[0murl\u001b[0m\u001b[0;34m)\u001b[0m\u001b[0;34m)\u001b[0m\u001b[0;34m\u001b[0m\u001b[0;34m\u001b[0m\u001b[0m\n\u001b[0m\u001b[1;32m    207\u001b[0m         \u001b[0mhtml\u001b[0m \u001b[0;34m=\u001b[0m \u001b[0mhtml\u001b[0m\u001b[0;34m.\u001b[0m\u001b[0mreplace\u001b[0m\u001b[0;34m(\u001b[0m\u001b[0;34mu'\\xa0'\u001b[0m\u001b[0;34m,\u001b[0m \u001b[0;34mu' '\u001b[0m\u001b[0;34m)\u001b[0m\u001b[0;34m\u001b[0m\u001b[0;34m\u001b[0m\u001b[0m\n\u001b[1;32m    208\u001b[0m         \u001b[0mres\u001b[0m \u001b[0;34m=\u001b[0m \u001b[0mBeautifulSoup\u001b[0m\u001b[0;34m(\u001b[0m\u001b[0mhtml\u001b[0m\u001b[0;34m,\u001b[0m \u001b[0;34m'html.parser'\u001b[0m\u001b[0;34m)\u001b[0m\u001b[0;34m\u001b[0m\u001b[0;34m\u001b[0m\u001b[0m\n",
      "\u001b[0;32m~/.local/lib/python3.6/site-packages/scholarly/_navigator.py\u001b[0m in \u001b[0;36m_get_page\u001b[0;34m(self, pagerequest)\u001b[0m\n\u001b[1;32m    156\u001b[0m             \u001b[0mtries\u001b[0m \u001b[0;34m+=\u001b[0m \u001b[0;36m1\u001b[0m\u001b[0;34m\u001b[0m\u001b[0;34m\u001b[0m\u001b[0m\n\u001b[1;32m    157\u001b[0m             \u001b[0mself\u001b[0m\u001b[0;34m.\u001b[0m\u001b[0m_session\u001b[0m\u001b[0;34m,\u001b[0m \u001b[0mtimeout\u001b[0m \u001b[0;34m=\u001b[0m \u001b[0mself\u001b[0m\u001b[0;34m.\u001b[0m\u001b[0mpm\u001b[0m\u001b[0;34m.\u001b[0m\u001b[0mget_next_proxy\u001b[0m\u001b[0;34m(\u001b[0m\u001b[0mnum_tries\u001b[0m \u001b[0;34m=\u001b[0m \u001b[0mtries\u001b[0m\u001b[0;34m,\u001b[0m \u001b[0mold_timeout\u001b[0m \u001b[0;34m=\u001b[0m \u001b[0mtimeout\u001b[0m\u001b[0;34m)\u001b[0m\u001b[0;34m\u001b[0m\u001b[0;34m\u001b[0m\u001b[0m\n\u001b[0;32m--> 158\u001b[0;31m         \u001b[0;32mraise\u001b[0m \u001b[0mMaxTriesExceededException\u001b[0m\u001b[0;34m(\u001b[0m\u001b[0;34m\"Cannot Fetch from Google Scholar.\"\u001b[0m\u001b[0;34m)\u001b[0m\u001b[0;34m\u001b[0m\u001b[0;34m\u001b[0m\u001b[0m\n\u001b[0m\u001b[1;32m    159\u001b[0m \u001b[0;34m\u001b[0m\u001b[0m\n\u001b[1;32m    160\u001b[0m \u001b[0;34m\u001b[0m\u001b[0m\n",
      "\u001b[0;31mMaxTriesExceededException\u001b[0m: Cannot Fetch from Google Scholar."
     ]
    }
   ],
   "source": [
    "from scholarly import scholarly\n",
    "\n",
    "cs['citedby'] = None\n",
    "cs['Research Interests'] = None\n",
    "\n",
    "for i in range(24328):\n",
    "    author = scholarly.search_author_id(cs['scholarid'][i])\n",
    "    cs['citedby'][i] = author['citedby']\n",
    "    cs['Research Interests'][i] = author['interests']"
   ]
  },
  {
   "cell_type": "code",
   "execution_count": 65,
   "metadata": {},
   "outputs": [
    {
     "output_type": "execute_result",
     "data": {
      "text/plain": [
       "                         name                      affiliation  \\\n",
       "0                  A Min Tjoa                          TU Wien   \n",
       "1              A. Aldo Faisal          Imperial College London   \n",
       "2          A. Antony Franklin                    IIT Hyderabad   \n",
       "3      A. B. M. Alim Al Islam                             BUET   \n",
       "4               A. C. Cem Say              Boğaziçi University   \n",
       "...                       ...                              ...   \n",
       "24323   Óscar Cánovas Reverte             University of Murcia   \n",
       "24324       Özcan Özturk 0001               Bilkent University   \n",
       "24325            Öznur Tastan               Sabancı University   \n",
       "24326           Öznur Özkasap                   Koç University   \n",
       "24327      Ümit V. Çatalyürek  Georgia Institute of Technology   \n",
       "\n",
       "                                           homepage     scholarid citedby  \\\n",
       "0                  http://www.ifs.tuwien.ac.at/tjoa  x8qCMhcAAAAJ    5675   \n",
       "1        https://www.imperial.ac.uk/people/a.faisal  WjHjbrwAAAAJ    5194   \n",
       "2          http://www.iith.ac.in/~antony/index.html  LVfqLuoAAAAJ    None   \n",
       "3      https://sites.google.com/site/abmalimalislam  K-AIPzQAAAAJ    None   \n",
       "4                 https://www.cmpe.boun.edu.tr/~say  rOum2XsAAAAJ    None   \n",
       "...                                             ...           ...     ...   \n",
       "24323    http://webs.um.es/ocanovas/miwiki/doku.php  iAPkCb8AAAAJ    None   \n",
       "24324          http://www.cs.bilkent.edu.tr/~ozturk  YZQ0KIcAAAAJ    None   \n",
       "24325         http://people.sabanciuniv.edu/otastan  8ljjXmEAAAAJ    None   \n",
       "24326               http://home.ku.edu.tr/~oozkasap  v2WiJeIAAAAJ    None   \n",
       "24327               https://www.cc.gatech.edu/~umit  OLDMURQAAAAJ    None   \n",
       "\n",
       "                                      Research Interests  \n",
       "0      [Databases, Security, Semantic Web, Risk Analy...  \n",
       "1      [AI for Healthcare, Reinforcement Learning, Ne...  \n",
       "2                                                   None  \n",
       "3                                                   None  \n",
       "4                                                   None  \n",
       "...                                                  ...  \n",
       "24323                                               None  \n",
       "24324                                               None  \n",
       "24325                                               None  \n",
       "24326                                               None  \n",
       "24327                                               None  \n",
       "\n",
       "[24328 rows x 6 columns]"
      ],
      "text/html": "<div>\n<style scoped>\n    .dataframe tbody tr th:only-of-type {\n        vertical-align: middle;\n    }\n\n    .dataframe tbody tr th {\n        vertical-align: top;\n    }\n\n    .dataframe thead th {\n        text-align: right;\n    }\n</style>\n<table border=\"1\" class=\"dataframe\">\n  <thead>\n    <tr style=\"text-align: right;\">\n      <th></th>\n      <th>name</th>\n      <th>affiliation</th>\n      <th>homepage</th>\n      <th>scholarid</th>\n      <th>citedby</th>\n      <th>Research Interests</th>\n    </tr>\n  </thead>\n  <tbody>\n    <tr>\n      <th>0</th>\n      <td>A Min Tjoa</td>\n      <td>TU Wien</td>\n      <td>http://www.ifs.tuwien.ac.at/tjoa</td>\n      <td>x8qCMhcAAAAJ</td>\n      <td>5675</td>\n      <td>[Databases, Security, Semantic Web, Risk Analy...</td>\n    </tr>\n    <tr>\n      <th>1</th>\n      <td>A. Aldo Faisal</td>\n      <td>Imperial College London</td>\n      <td>https://www.imperial.ac.uk/people/a.faisal</td>\n      <td>WjHjbrwAAAAJ</td>\n      <td>5194</td>\n      <td>[AI for Healthcare, Reinforcement Learning, Ne...</td>\n    </tr>\n    <tr>\n      <th>2</th>\n      <td>A. Antony Franklin</td>\n      <td>IIT Hyderabad</td>\n      <td>http://www.iith.ac.in/~antony/index.html</td>\n      <td>LVfqLuoAAAAJ</td>\n      <td>None</td>\n      <td>None</td>\n    </tr>\n    <tr>\n      <th>3</th>\n      <td>A. B. M. Alim Al Islam</td>\n      <td>BUET</td>\n      <td>https://sites.google.com/site/abmalimalislam</td>\n      <td>K-AIPzQAAAAJ</td>\n      <td>None</td>\n      <td>None</td>\n    </tr>\n    <tr>\n      <th>4</th>\n      <td>A. C. Cem Say</td>\n      <td>Boğaziçi University</td>\n      <td>https://www.cmpe.boun.edu.tr/~say</td>\n      <td>rOum2XsAAAAJ</td>\n      <td>None</td>\n      <td>None</td>\n    </tr>\n    <tr>\n      <th>...</th>\n      <td>...</td>\n      <td>...</td>\n      <td>...</td>\n      <td>...</td>\n      <td>...</td>\n      <td>...</td>\n    </tr>\n    <tr>\n      <th>24323</th>\n      <td>Óscar Cánovas Reverte</td>\n      <td>University of Murcia</td>\n      <td>http://webs.um.es/ocanovas/miwiki/doku.php</td>\n      <td>iAPkCb8AAAAJ</td>\n      <td>None</td>\n      <td>None</td>\n    </tr>\n    <tr>\n      <th>24324</th>\n      <td>Özcan Özturk 0001</td>\n      <td>Bilkent University</td>\n      <td>http://www.cs.bilkent.edu.tr/~ozturk</td>\n      <td>YZQ0KIcAAAAJ</td>\n      <td>None</td>\n      <td>None</td>\n    </tr>\n    <tr>\n      <th>24325</th>\n      <td>Öznur Tastan</td>\n      <td>Sabancı University</td>\n      <td>http://people.sabanciuniv.edu/otastan</td>\n      <td>8ljjXmEAAAAJ</td>\n      <td>None</td>\n      <td>None</td>\n    </tr>\n    <tr>\n      <th>24326</th>\n      <td>Öznur Özkasap</td>\n      <td>Koç University</td>\n      <td>http://home.ku.edu.tr/~oozkasap</td>\n      <td>v2WiJeIAAAAJ</td>\n      <td>None</td>\n      <td>None</td>\n    </tr>\n    <tr>\n      <th>24327</th>\n      <td>Ümit V. Çatalyürek</td>\n      <td>Georgia Institute of Technology</td>\n      <td>https://www.cc.gatech.edu/~umit</td>\n      <td>OLDMURQAAAAJ</td>\n      <td>None</td>\n      <td>None</td>\n    </tr>\n  </tbody>\n</table>\n<p>24328 rows × 6 columns</p>\n</div>"
     },
     "metadata": {},
     "execution_count": 65
    }
   ],
   "source": [
    "cs"
   ]
  },
  {
   "cell_type": "code",
   "execution_count": null,
   "metadata": {},
   "outputs": [],
   "source": []
  }
 ]
}